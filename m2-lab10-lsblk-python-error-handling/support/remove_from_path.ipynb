{
 "cells": [
  {
   "cell_type": "markdown",
   "id": "f171df5d-7552-4ce5-a8b5-e543a981e6f0",
   "metadata": {},
   "source": [
    "# Remove path\n",
    "\n",
    "Idea: Given a tool, such as `lsblk`, remove its path so that the tool is not found, good for testing."
   ]
  },
  {
   "cell_type": "code",
   "execution_count": 26,
   "id": "ecfa9c8f-0134-4b00-a6af-75c6fece182e",
   "metadata": {},
   "outputs": [],
   "source": [
    "import contextlib\n",
    "import os\n",
    "import pathlib\n",
    "import shutil\n",
    "import sys"
   ]
  },
  {
   "cell_type": "code",
   "execution_count": 31,
   "id": "eebbaff4-df81-414e-9ccf-df899d437631",
   "metadata": {},
   "outputs": [],
   "source": [
    "@contextlib.contextmanager\n",
    "def remove_path(tool: str):\n",
    "    \"\"\"Remove the path in which the tool resides to simulate not found condition for testing.\"\"\"\n",
    "    original_paths = os.getenv(\"PATH\")\n",
    "    all_paths = os.getenv(\"PATH\").split(os.pathsep)\n",
    "    new_paths = os.pathsep.join(\n",
    "        path\n",
    "        for path in original_paths.split(os.pathsep)\n",
    "        if not os.path.exists((os.path.join(path, tool)))\n",
    "    )\n",
    "    os.environ[\"PATH\"] = new_paths\n",
    "    yield\n",
    "    os.environ[\"PATH\"] = original_paths"
   ]
  },
  {
   "cell_type": "code",
   "execution_count": 33,
   "id": "e22161cb-f16d-4019-9763-53c0ef30b32f",
   "metadata": {},
   "outputs": [
    {
     "name": "stdout",
     "output_type": "stream",
     "text": [
      "before: /usr/bin/lsblk\n",
      "during: None\n",
      "after: /usr/bin/lsblk\n"
     ]
    }
   ],
   "source": [
    "print(\"before:\", shutil.which(\"lsblk\"))\n",
    "with remove_path(\"lsblk\"):\n",
    "    print(\"during:\", shutil.which(\"lsblk\"))\n",
    "print(\"after:\", shutil.which(\"lsblk\"))"
   ]
  },
  {
   "cell_type": "code",
   "execution_count": null,
   "id": "8deee77c-e1c9-4f35-acc6-0a0e7829587d",
   "metadata": {},
   "outputs": [],
   "source": []
  }
 ],
 "metadata": {
  "kernelspec": {
   "display_name": "Python 3 (ipykernel)",
   "language": "python",
   "name": "python3"
  },
  "language_info": {
   "codemirror_mode": {
    "name": "ipython",
    "version": 3
   },
   "file_extension": ".py",
   "mimetype": "text/x-python",
   "name": "python",
   "nbconvert_exporter": "python",
   "pygments_lexer": "ipython3",
   "version": "3.13.1"
  }
 },
 "nbformat": 4,
 "nbformat_minor": 5
}
